{
 "cells": [
  {
   "cell_type": "code",
   "execution_count": 1,
   "metadata": {},
   "outputs": [],
   "source": [
    "import cv2\n",
    "#Read image\n",
    "imk = cv2.imread(\"C:/Users/Computer Science Lap/Downloads/MICC-F8multi/1 (3).jpg\",0)\n",
    "#Split into rows and columns\n",
    "r,c=imk.shape\n",
    "bw_im1 = imk.copy()\n",
    "\n",
    "for i in  range(r):\n",
    "    for j in range(c):\n",
    "        if imk[i][j]>128:\n",
    "            bw_im1[i][j] = 255\n",
    "        else:\n",
    "            bw_im1[i][j] = 0\n",
    "\n",
    "#Display binary image\n",
    "cv2.imshow(\"Binary Image\",bw_im1)            \n",
    "cv2.waitKey(0)\n",
    "cv2.destroyAllWindows()"
   ]
  }
 ],
 "metadata": {
  "kernelspec": {
   "display_name": "Python 3",
   "language": "python",
   "name": "python3"
  },
  "language_info": {
   "codemirror_mode": {
    "name": "ipython",
    "version": 3
   },
   "file_extension": ".py",
   "mimetype": "text/x-python",
   "name": "python",
   "nbconvert_exporter": "python",
   "pygments_lexer": "ipython3",
   "version": "3.8.5"
  }
 },
 "nbformat": 4,
 "nbformat_minor": 4
}
